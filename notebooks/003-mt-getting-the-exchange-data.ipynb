{
 "cells": [
  {
   "cell_type": "markdown",
   "metadata": {},
   "source": [
    "# Notebook to try to get the USD/UYU exchange data from the World Bank API"
   ]
  },
  {
   "cell_type": "markdown",
   "metadata": {},
   "source": [
    "## World Bank Explaination on the data\n",
    "\n",
    "```\n",
    "Official exchange rate (LCU per US$, period average)\n",
    "\n",
    "Official exchange rate refers to the exchange rate determined by national authorities or to the rate determined in the legally sanctioned exchange market. It is calculated as an annual average based on monthly averages (local currency units relative to the U.S. dollar).\n",
    "\n",
    "    Source: International Monetary Fund, International Financial Statistics.\n",
    "    License:  CC BY-4.0 \n",
    "    \n",
    "Development Relevance: In a market-based economy, household, producer, and government choices about resource allocation are influenced by relative prices, including the real exchange rate, real wages, real interest rates, and other prices in the economy. Relative prices also largely reflect these agents' choices. Thus relative prices convey vital information about the interaction of economic agents in an economy and with the rest of the world.\n",
    "   \n",
    "Limitations and Exceptions: Official or market exchange rates are often used to convert economic statistics in local currencies to a common currency in order to make comparisons across countries. Since market rates reflect at best the relative prices of tradable goods, the volume of goods and services that a U.S. dollar buys in the United States may not correspond to what a U.S. dollar converted to another country's currency at the official exchange rate would buy in that country, particularly when nontradable goods and services account for a significant share of a country's output. An alternative exchange rate - the purchasing power parity (PPP) conversion factor - is preferred because it reflects differences in price levels for both tradable and nontradable goods and services and therefore provides a more meaningful comparison of real output.\n",
    "\n",
    "Long Definition: Official exchange rate refers to the exchange rate determined by national authorities or to the rate determined in the legally sanctioned exchange market. It is calculated as an annual average based on monthly averages (local currency units relative to the U.S. dollar).\n",
    "\n",
    "Periodicity: Annual\n",
    "\n",
    "Statistical Concept and Methodology: The exchange rate is the price of one currency in terms of another. Official exchange rates and exchange rate arrangements are established by governments. Other exchange rates recognized by governments include market rates, which are determined largely by legal market forces, and for countries with multiple exchange arrangements, principal rates, secondary rates, and tertiary rates.\n",
    "```"
   ]
  },
  {
   "cell_type": "code",
   "execution_count": 1,
   "metadata": {},
   "outputs": [],
   "source": [
    "import requests\n",
    "import pandas as pd\n",
    "from collections import defaultdict\n",
    "import matplotlib.pyplot as plt\n",
    "%matplotlib inline\n",
    "\n",
    "import sys\n",
    "sys.path.append('../src')"
   ]
  },
  {
   "cell_type": "code",
   "execution_count": 2,
   "metadata": {},
   "outputs": [],
   "source": [
    "import data.world_bank as wb"
   ]
  },
  {
   "cell_type": "code",
   "execution_count": 3,
   "metadata": {},
   "outputs": [],
   "source": [
    "def download_exchange_rate(country_code, **kwargs):\n",
    "    \"\"\"\n",
    "    Downloads the Exchange for one country, with respect to USD,\n",
    "    and returns the data as a pandas DataFrame.\n",
    "\n",
    "    Args:\n",
    "        country_code(str): The two letter code for the World Bank webpage\n",
    "        **kwargs: Arguments for 'download_index', for example:\n",
    "            start_date(int): The initial year to retreive\n",
    "            end_date(int): The final year to retreive\n",
    "\n",
    "    Returns:\n",
    "        pd.DataFrame: The values for the exchange rates in a dataframe.\n",
    "    \"\"\"\n",
    "    cpi_code = 'PA.NUS.FCRF'\n",
    "    raw_res = wb.download_index(country_code, cpi_code, **kwargs)\n",
    "    return wb.format_response(raw_res)"
   ]
  },
  {
   "cell_type": "code",
   "execution_count": 4,
   "metadata": {},
   "outputs": [
    {
     "name": "stdout",
     "output_type": "stream",
     "text": [
      "(58, 1)\n"
     ]
    },
    {
     "data": {
      "text/html": [
       "<div>\n",
       "<style scoped>\n",
       "    .dataframe tbody tr th:only-of-type {\n",
       "        vertical-align: middle;\n",
       "    }\n",
       "\n",
       "    .dataframe tbody tr th {\n",
       "        vertical-align: top;\n",
       "    }\n",
       "\n",
       "    .dataframe thead th {\n",
       "        text-align: right;\n",
       "    }\n",
       "</style>\n",
       "<table border=\"1\" class=\"dataframe\">\n",
       "  <thead>\n",
       "    <tr style=\"text-align: right;\">\n",
       "      <th></th>\n",
       "      <th>Uruguay</th>\n",
       "    </tr>\n",
       "  </thead>\n",
       "  <tbody>\n",
       "    <tr>\n",
       "      <th>1960</th>\n",
       "      <td>0.000011</td>\n",
       "    </tr>\n",
       "    <tr>\n",
       "      <th>1961</th>\n",
       "      <td>0.000011</td>\n",
       "    </tr>\n",
       "    <tr>\n",
       "      <th>1962</th>\n",
       "      <td>0.000011</td>\n",
       "    </tr>\n",
       "    <tr>\n",
       "      <th>1963</th>\n",
       "      <td>0.000015</td>\n",
       "    </tr>\n",
       "    <tr>\n",
       "      <th>1964</th>\n",
       "      <td>0.000016</td>\n",
       "    </tr>\n",
       "  </tbody>\n",
       "</table>\n",
       "</div>"
      ],
      "text/plain": [
       "       Uruguay\n",
       "1960  0.000011\n",
       "1961  0.000011\n",
       "1962  0.000011\n",
       "1963  0.000015\n",
       "1964  0.000016"
      ]
     },
     "execution_count": 4,
     "metadata": {},
     "output_type": "execute_result"
    }
   ],
   "source": [
    "rate = download_exchange_rate('uy', end_date=2017)\n",
    "print(rate.shape)\n",
    "rate.head()"
   ]
  },
  {
   "cell_type": "code",
   "execution_count": 5,
   "metadata": {},
   "outputs": [
    {
     "data": {
      "text/plain": [
       "<matplotlib.axes._subplots.AxesSubplot at 0x1098a0b38>"
      ]
     },
     "execution_count": 5,
     "metadata": {},
     "output_type": "execute_result"
    },
    {
     "data": {
      "image/png": "[encoded data removed]",
      "text/plain": [
       "<Figure size 432x288 with 1 Axes>"
      ]
     },
     "metadata": {},
     "output_type": "display_data"
    }
   ],
   "source": [
    "rate.plot()"
   ]
  },
  {
   "cell_type": "code",
   "execution_count": null,
   "metadata": {},
   "outputs": [],
   "source": []
  }
 ],
 "metadata": {
  "kernelspec": {
   "display_name": "data",
   "language": "python",
   "name": "data"
  },
  "language_info": {
   "codemirror_mode": {
    "name": "ipython",
    "version": 3
   },
   "file_extension": ".py",
   "mimetype": "text/x-python",
   "name": "python",
   "nbconvert_exporter": "python",
   "pygments_lexer": "ipython3",
   "version": "3.6.5"
  }
 },
 "nbformat": 4,
 "nbformat_minor": 2
}
